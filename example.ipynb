{
 "cells": [
  {
   "cell_type": "code",
   "execution_count": null,
   "id": "initial_id",
   "metadata": {
    "collapsed": true
   },
   "outputs": [],
   "source": [
    "from core.model import TeaDeer\n",
    "\n",
    "td = TeaDeer() # Общий класс\n",
    "td.detect() # Предсказание файла (картинка, видео, ссылка на стрим)\n",
    "td.markDrafts() # Пометка датасета и перенос в drafts\n",
    "td.splitDataset() # Разделение датасета на тенеровочные файлы и проверочные\n",
    "td.load() # Подгрузка модели из файла"
   ]
  }
 ],
 "metadata": {
  "kernelspec": {
   "display_name": "Python 3",
   "language": "python",
   "name": "python3"
  },
  "language_info": {
   "codemirror_mode": {
    "name": "ipython",
    "version": 2
   },
   "file_extension": ".py",
   "mimetype": "text/x-python",
   "name": "python",
   "nbconvert_exporter": "python",
   "pygments_lexer": "ipython2",
   "version": "2.7.6"
  }
 },
 "nbformat": 4,
 "nbformat_minor": 5
}
