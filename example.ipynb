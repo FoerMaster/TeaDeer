{
 "cells": [
  {
   "metadata": {},
   "cell_type": "markdown",
   "source": "# Функция предсказывания и вывода результата нейроной сети.",
   "id": "4061244751c80792"
  },
  {
   "metadata": {},
   "cell_type": "code",
   "source": [
    "from core.model import TeaDeer\n",
    "from core.packing import sort\n",
    "td = TeaDeer() # Общий класс\n",
    "td.load('models/best_seg.pt') # Подгрузка модели из файла\n",
    "results = td.detect('media')\n",
    "for result in results:\n",
    "     td.plot(result)"
   ],
   "id": "a225bff10b5bc",
   "outputs": [],
   "execution_count": null
  },
  {
   "metadata": {},
   "cell_type": "markdown",
   "source": "------------------",
   "id": "721618bb8f49ec64"
  },
  {
   "metadata": {},
   "cell_type": "markdown",
   "source": "# Функция сортировки изображений на основе результата предсказываний",
   "id": "f2dd82be7d06c7cb"
  },
  {
   "metadata": {},
   "cell_type": "code",
   "source": [
    "from core.model import TeaDeer\n",
    "from core.packing import sort\n",
    "td = TeaDeer() # Общий класс\n",
    "td.load('models/640_normal.pt') # Подгрузка модели из файла\n",
    "results = td.detect('media')\n",
    "\n",
    "sort(results,destination_folder_dear='dist/Олени',\n",
    "     destination_folder_roe_dear='dist/Косули',\n",
    "     destination_folder_musk_dear='dist/Кабарги')"
   ],
   "id": "ec9e40b2f9e37f3e",
   "outputs": [],
   "execution_count": null
  },
  {
   "metadata": {},
   "cell_type": "markdown",
   "source": "------------------",
   "id": "6fe48c685e2d8638"
  },
  {
   "metadata": {
    "ExecuteTime": {
     "end_time": "2024-05-18T12:45:29.851660Z",
     "start_time": "2024-05-18T12:45:26.239664Z"
    }
   },
   "cell_type": "code",
   "source": [
    "from core.model import TeaDeer\n",
    "td = TeaDeer() # Общий класс\n",
    "td.splitDataset('traning/dataset',seed=22313123)"
   ],
   "id": "bc800024eddb460c",
   "outputs": [
    {
     "name": "stdout",
     "output_type": "stream",
     "text": [
      "🪄 Dataset successfully split into train and val sets.\n"
     ]
    }
   ],
   "execution_count": 1
  },
  {
   "metadata": {
    "ExecuteTime": {
     "end_time": "2024-05-18T12:50:07.202454Z",
     "start_time": "2024-05-18T12:49:52.223457Z"
    }
   },
   "cell_type": "code",
   "source": [
    "from core.model import TeaDeer\n",
    "td = TeaDeer() # Общий класс\n",
    "td.compress(name='compressed/ds_18052024', dir='traning/dataset')"
   ],
   "id": "9cffc9fbafda7fc2",
   "outputs": [],
   "execution_count": 2
  },
  {
   "metadata": {},
   "cell_type": "code",
   "outputs": [],
   "execution_count": null,
   "source": "",
   "id": "28b9eaf409b44345"
  }
 ],
 "metadata": {
  "kernelspec": {
   "display_name": "Python 3",
   "language": "python",
   "name": "python3"
  },
  "language_info": {
   "codemirror_mode": {
    "name": "ipython",
    "version": 2
   },
   "file_extension": ".py",
   "mimetype": "text/x-python",
   "name": "python",
   "nbconvert_exporter": "python",
   "pygments_lexer": "ipython2",
   "version": "2.7.6"
  }
 },
 "nbformat": 4,
 "nbformat_minor": 5
}
